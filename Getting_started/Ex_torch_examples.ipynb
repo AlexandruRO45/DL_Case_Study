{
 "cells": [
  {
   "cell_type": "markdown",
   "id": "1ae206ce",
   "metadata": {},
   "source": [
    "# Learning PyTorch with Examples\n"
   ]
  },
  {
   "cell_type": "markdown",
   "id": "1bc137cc",
   "metadata": {},
   "source": [
    "**Author**: `Justin Johnson <https://github.com/jcjohnson/pytorch-examples>`_"
   ]
  },
  {
   "cell_type": "markdown",
   "id": "d6e7cb30",
   "metadata": {},
   "source": [
    "\n",
    "   This is one of our older PyTorch tutorials. You can view our latest\n",
    "   beginner content in \n",
    "   `Learn the Basics <https://pytorch.org/tutorials/beginner/basics/intro.html>`_."
   ]
  },
  {
   "cell_type": "markdown",
   "id": "150a267c",
   "metadata": {},
   "source": [
    "This tutorial introduces the fundamental concepts of\n",
    "`PyTorch <https://github.com/pytorch/pytorch>`__ through self-contained\n",
    "examples."
   ]
  },
  {
   "cell_type": "markdown",
   "id": "301f58e3",
   "metadata": {},
   "source": [
    "At its core, PyTorch provides two main features:"
   ]
  },
  {
   "cell_type": "markdown",
   "id": "00e86595",
   "metadata": {},
   "source": [
    "- An n-dimensional Tensor, similar to numpy but can run on GPUs\n",
    "- Automatic differentiation for building and training neural networks"
   ]
  },
  {
   "cell_type": "markdown",
   "id": "afacb59d",
   "metadata": {},
   "source": [
    "We will use a problem of fitting :math:`y=\\sin(x)` with a third order polynomial\n",
    "as our running example. The network will have four parameters, and will be trained with\n",
    "gradient descent to fit random data by minimizing the Euclidean distance\n",
    "between the network output and the true output."
   ]
  },
  {
   "cell_type": "markdown",
   "id": "6b494628",
   "metadata": {},
   "source": [
    ".. note::\n",
    "   You can browse the individual examples at the\n",
    "   :ref:`end of this page <examples-download>`."
   ]
  },
  {
   "cell_type": "markdown",
   "id": "e39b2351",
   "metadata": {},
   "source": [
    ".. contents:: Table of Contents\n",
    "   :local:"
   ]
  },
  {
   "cell_type": "markdown",
   "id": "d74b2b0d",
   "metadata": {},
   "source": [
    "## Tensors\n"
   ]
  },
  {
   "cell_type": "markdown",
   "id": "6fb1b9a5",
   "metadata": {},
   "source": [
    "### Warm-up: numpy\n"
   ]
  },
  {
   "cell_type": "markdown",
   "id": "4b5063c9",
   "metadata": {},
   "source": [
    "Before introducing PyTorch, we will first implement the network using\n",
    "numpy."
   ]
  },
  {
   "cell_type": "markdown",
   "id": "74c0e57e",
   "metadata": {},
   "source": [
    "Numpy provides an n-dimensional array object, and many functions for\n",
    "manipulating these arrays. Numpy is a generic framework for scientific\n",
    "computing; it does not know anything about computation graphs, or deep\n",
    "learning, or gradients. However we can easily use numpy to fit a\n",
    "third order polynomial to sine function by manually implementing the forward\n",
    "and backward passes through the network using numpy operations:"
   ]
  },
  {
   "cell_type": "code",
   "execution_count": null,
   "id": "05622d2a",
   "metadata": {},
   "outputs": [],
   "source": [
    "# -*- coding: utf-8 -*-\n",
    "import numpy as np\n",
    "import math\n",
    "\n",
    "# Create random input and output data\n",
    "x = np.linspace(-math.pi, math.pi, 2000)\n",
    "y = np.sin(x)\n",
    "\n",
    "# Randomly initialize weights\n",
    "a = np.random.randn()\n",
    "b = np.random.randn()\n",
    "c = np.random.randn()\n",
    "d = np.random.randn()\n",
    "\n",
    "learning_rate = 1e-6\n",
    "for t in range(2000):\n",
    "    # Forward pass: compute predicted y\n",
    "    # y = a + b x + c x^2 + d x^3\n",
    "    y_pred = a + b * x + c * x ** 2 + d * x ** 3\n",
    "\n",
    "    # Compute and print loss\n",
    "    loss = np.square(y_pred - y).sum()\n",
    "    if t % 100 == 99:\n",
    "        print(t, loss)\n",
    "\n",
    "    # Backprop to compute gradients of a, b, c, d with respect to loss\n",
    "    grad_y_pred = 2.0 * (y_pred - y)\n",
    "    grad_a = grad_y_pred.sum()\n",
    "    grad_b = (grad_y_pred * x).sum()\n",
    "    grad_c = (grad_y_pred * x ** 2).sum()\n",
    "    grad_d = (grad_y_pred * x ** 3).sum()\n",
    "\n",
    "    # Update weights\n",
    "    a -= learning_rate * grad_a\n",
    "    b -= learning_rate * grad_b\n",
    "    c -= learning_rate * grad_c\n",
    "    d -= learning_rate * grad_d\n",
    "\n",
    "print(f'Result: y = {a} + {b} x + {c} x^2 + {d} x^3')"
   ]
  },
  {
   "cell_type": "markdown",
   "id": "bd7fce7f",
   "metadata": {},
   "source": [
    "\n",
    "PyTorch: Tensors\n",
    "----------------"
   ]
  },
  {
   "cell_type": "markdown",
   "id": "31620a8d",
   "metadata": {},
   "source": [
    "Numpy is a great framework, but it cannot utilize GPUs to accelerate its\n",
    "numerical computations. For modern deep neural networks, GPUs often\n",
    "provide speedups of `50x or greater <https://github.com/jcjohnson/cnn-benchmarks>`__, so\n",
    "unfortunately numpy won't be enough for modern deep learning."
   ]
  },
  {
   "cell_type": "markdown",
   "id": "92682a2a",
   "metadata": {},
   "source": [
    "Here we introduce the most fundamental PyTorch concept: the **Tensor**.\n",
    "A PyTorch Tensor is conceptually identical to a numpy array: a Tensor is\n",
    "an n-dimensional array, and PyTorch provides many functions for\n",
    "operating on these Tensors. Behind the scenes, Tensors can keep track of\n",
    "a computational graph and gradients, but they're also useful as a\n",
    "generic tool for scientific computing."
   ]
  },
  {
   "cell_type": "markdown",
   "id": "074232eb",
   "metadata": {},
   "source": [
    "Also unlike numpy, PyTorch Tensors can utilize GPUs to accelerate\n",
    "their numeric computations. To run a PyTorch Tensor on GPU, you simply\n",
    "need to specify the correct device."
   ]
  },
  {
   "cell_type": "markdown",
   "id": "0384f6f2",
   "metadata": {},
   "source": [
    "Here we use PyTorch Tensors to fit a third order polynomial to sine function.\n",
    "Like the numpy example above we need to manually implement the forward\n",
    "and backward passes through the network:"
   ]
  },
  {
   "cell_type": "markdown",
   "id": "c78cb21b",
   "metadata": {},
   "source": [
    ".. includenodoc:: /beginner/examples_tensor/polynomial_tensor.py"
   ]
  },
  {
   "cell_type": "markdown",
   "id": "21273c40",
   "metadata": {},
   "source": [
    "\n",
    "Autograd\n",
    "~~~~~~~~"
   ]
  },
  {
   "cell_type": "markdown",
   "id": "22e6f50b",
   "metadata": {},
   "source": [
    "PyTorch: Tensors and autograd\n",
    "-------------------------------"
   ]
  },
  {
   "cell_type": "markdown",
   "id": "939a7bc9",
   "metadata": {},
   "source": [
    "In the above examples, we had to manually implement both the forward and\n",
    "backward passes of our neural network. Manually implementing the\n",
    "backward pass is not a big deal for a small two-layer network, but can\n",
    "quickly get very hairy for large complex networks."
   ]
  },
  {
   "cell_type": "markdown",
   "id": "b3f2a8d3",
   "metadata": {},
   "source": [
    "Thankfully, we can use `automatic\n",
    "differentiation <https://en.wikipedia.org/wiki/Automatic_differentiation>`__\n",
    "to automate the computation of backward passes in neural networks. The\n",
    "**autograd** package in PyTorch provides exactly this functionality.\n",
    "When using autograd, the forward pass of your network will define a\n",
    "**computational graph**; nodes in the graph will be Tensors, and edges\n",
    "will be functions that produce output Tensors from input Tensors.\n",
    "Backpropagating through this graph then allows you to easily compute\n",
    "gradients."
   ]
  },
  {
   "cell_type": "markdown",
   "id": "4dce99f8",
   "metadata": {},
   "source": [
    "This sounds complicated, it's pretty simple to use in practice. Each Tensor\n",
    "represents a node in a computational graph. If ``x`` is a Tensor that has\n",
    "``x.requires_grad=True`` then ``x.grad`` is another Tensor holding the\n",
    "gradient of ``x`` with respect to some scalar value."
   ]
  },
  {
   "cell_type": "markdown",
   "id": "1e0ec9d5",
   "metadata": {},
   "source": [
    "Here we use PyTorch Tensors and autograd to implement our fitting sine wave\n",
    "with third order polynomial example; now we no longer need to manually\n",
    "implement the backward pass through the network:"
   ]
  },
  {
   "cell_type": "markdown",
   "id": "eb34b1c3",
   "metadata": {},
   "source": [
    ".. includenodoc:: /beginner/examples_autograd/polynomial_autograd.py"
   ]
  },
  {
   "cell_type": "markdown",
   "id": "c8ec658a",
   "metadata": {},
   "source": [
    "PyTorch: Defining new autograd functions\n",
    "----------------------------------------"
   ]
  },
  {
   "cell_type": "markdown",
   "id": "5d2cc120",
   "metadata": {},
   "source": [
    "Under the hood, each primitive autograd operator is really two functions\n",
    "that operate on Tensors. The **forward** function computes output\n",
    "Tensors from input Tensors. The **backward** function receives the\n",
    "gradient of the output Tensors with respect to some scalar value, and\n",
    "computes the gradient of the input Tensors with respect to that same\n",
    "scalar value."
   ]
  },
  {
   "cell_type": "markdown",
   "id": "f85ea257",
   "metadata": {},
   "source": [
    "In PyTorch we can easily define our own autograd operator by defining a\n",
    "subclass of ``torch.autograd.Function`` and implementing the ``forward``\n",
    "and ``backward`` functions. We can then use our new autograd operator by\n",
    "constructing an instance and calling it like a function, passing\n",
    "Tensors containing input data."
   ]
  },
  {
   "cell_type": "markdown",
   "id": "15e051ae",
   "metadata": {},
   "source": [
    "In this example we define our model as :math:`y=a+b P_3(c+dx)` instead of\n",
    ":math:`y=a+bx+cx^2+dx^3`, where :math:`P_3(x)=\\frac{1}{2}\\left(5x^3-3x\\right)`\n",
    "is the `Legendre polynomial`_ of degree three. We write our own custom autograd\n",
    "function for computing forward and backward of :math:`P_3`, and use it to implement\n",
    "our model:"
   ]
  },
  {
   "cell_type": "markdown",
   "id": "3573542f",
   "metadata": {},
   "source": [
    ".. _Legendre polynomial:\n",
    "    https://en.wikipedia.org/wiki/Legendre_polynomials"
   ]
  },
  {
   "cell_type": "markdown",
   "id": "4c29fb10",
   "metadata": {},
   "source": [
    ".. includenodoc:: /beginner/examples_autograd/polynomial_custom_function.py"
   ]
  },
  {
   "cell_type": "markdown",
   "id": "565bae5b",
   "metadata": {},
   "source": [
    "``nn`` module\n",
    "~~~~~~~~~~~~~"
   ]
  },
  {
   "cell_type": "markdown",
   "id": "a2770a40",
   "metadata": {},
   "source": [
    "PyTorch: ``nn``\n",
    "---------------"
   ]
  },
  {
   "cell_type": "markdown",
   "id": "9b3c456c",
   "metadata": {},
   "source": [
    "Computational graphs and autograd are a very powerful paradigm for\n",
    "defining complex operators and automatically taking derivatives; however\n",
    "for large neural networks raw autograd can be a bit too low-level."
   ]
  },
  {
   "cell_type": "markdown",
   "id": "2b660be5",
   "metadata": {},
   "source": [
    "When building neural networks we frequently think of arranging the\n",
    "computation into **layers**, some of which have **learnable parameters**\n",
    "which will be optimized during learning."
   ]
  },
  {
   "cell_type": "markdown",
   "id": "d92815ae",
   "metadata": {},
   "source": [
    "In TensorFlow, packages like\n",
    "`Keras <https://github.com/fchollet/keras>`__,\n",
    "`TensorFlow-Slim <https://github.com/tensorflow/tensorflow/tree/master/tensorflow/contrib/slim>`__,\n",
    "and `TFLearn <http://tflearn.org/>`__ provide higher-level abstractions\n",
    "over raw computational graphs that are useful for building neural\n",
    "networks."
   ]
  },
  {
   "cell_type": "markdown",
   "id": "fe6f7723",
   "metadata": {},
   "source": [
    "In PyTorch, the ``nn`` package serves this same purpose. The ``nn``\n",
    "package defines a set of **Modules**, which are roughly equivalent to\n",
    "neural network layers. A Module receives input Tensors and computes\n",
    "output Tensors, but may also hold internal state such as Tensors\n",
    "containing learnable parameters. The ``nn`` package also defines a set\n",
    "of useful loss functions that are commonly used when training neural\n",
    "networks."
   ]
  },
  {
   "cell_type": "markdown",
   "id": "08958a80",
   "metadata": {},
   "source": [
    "In this example we use the ``nn`` package to implement our polynomial model\n",
    "network:"
   ]
  },
  {
   "cell_type": "markdown",
   "id": "13823f29",
   "metadata": {},
   "source": [
    ".. includenodoc:: /beginner/examples_nn/polynomial_nn.py"
   ]
  },
  {
   "cell_type": "markdown",
   "id": "0851c2b7",
   "metadata": {},
   "source": [
    "PyTorch: optim\n",
    "--------------"
   ]
  },
  {
   "cell_type": "markdown",
   "id": "9d7374d3",
   "metadata": {},
   "source": [
    "Up to this point we have updated the weights of our models by manually\n",
    "mutating the Tensors holding learnable parameters with ``torch.no_grad()``.\n",
    "This is not a huge burden for simple optimization algorithms like stochastic\n",
    "gradient descent, but in practice we often train neural networks using more\n",
    "sophisticated optimizers like ``AdaGrad``, ``RMSProp``, ``Adam``, and other."
   ]
  },
  {
   "cell_type": "markdown",
   "id": "909ce95b",
   "metadata": {},
   "source": [
    "The ``optim`` package in PyTorch abstracts the idea of an optimization\n",
    "algorithm and provides implementations of commonly used optimization\n",
    "algorithms."
   ]
  },
  {
   "cell_type": "markdown",
   "id": "293881f9",
   "metadata": {},
   "source": [
    "In this example we will use the ``nn`` package to define our model as\n",
    "before, but we will optimize the model using the ``RMSprop`` algorithm provided\n",
    "by the ``optim`` package:"
   ]
  },
  {
   "cell_type": "markdown",
   "id": "5a70c85e",
   "metadata": {},
   "source": [
    ".. includenodoc:: /beginner/examples_nn/polynomial_optim.py"
   ]
  },
  {
   "cell_type": "markdown",
   "id": "1101d6c3",
   "metadata": {},
   "source": [
    "PyTorch: Custom ``nn`` Modules\n",
    "------------------------------"
   ]
  },
  {
   "cell_type": "markdown",
   "id": "e97b5f09",
   "metadata": {},
   "source": [
    "Sometimes you will want to specify models that are more complex than a\n",
    "sequence of existing Modules; for these cases you can define your own\n",
    "Modules by subclassing ``nn.Module`` and defining a ``forward`` which\n",
    "receives input Tensors and produces output Tensors using other\n",
    "modules or other autograd operations on Tensors."
   ]
  },
  {
   "cell_type": "markdown",
   "id": "ae83deba",
   "metadata": {},
   "source": [
    "In this example we implement our third order polynomial as a custom Module\n",
    "subclass:"
   ]
  },
  {
   "cell_type": "markdown",
   "id": "3b11c8fb",
   "metadata": {},
   "source": [
    ".. includenodoc:: /beginner/examples_nn/polynomial_module.py"
   ]
  },
  {
   "cell_type": "markdown",
   "id": "31b1eb12",
   "metadata": {},
   "source": [
    "PyTorch: Control Flow + Weight Sharing\n",
    "--------------------------------------"
   ]
  },
  {
   "cell_type": "markdown",
   "id": "ed9c8c78",
   "metadata": {},
   "source": [
    "As an example of dynamic graphs and weight sharing, we implement a very\n",
    "strange model: a third-fifth order polynomial that on each forward pass\n",
    "chooses a random number between 3 and 5 and uses that many orders, reusing\n",
    "the same weights multiple times to compute the fourth and fifth order."
   ]
  },
  {
   "cell_type": "markdown",
   "id": "e9a17158",
   "metadata": {},
   "source": [
    "For this model we can use normal Python flow control to implement the loop,\n",
    "and we can implement weight sharing by simply reusing the same parameter multiple\n",
    "times when defining the forward pass."
   ]
  },
  {
   "cell_type": "markdown",
   "id": "829745ad",
   "metadata": {},
   "source": [
    "We can easily implement this model as a Module subclass:"
   ]
  },
  {
   "cell_type": "markdown",
   "id": "63b84e64",
   "metadata": {},
   "source": [
    ".. includenodoc:: /beginner/examples_nn/dynamic_net.py"
   ]
  },
  {
   "cell_type": "markdown",
   "id": "86f7a27e",
   "metadata": {},
   "source": [
    "\n",
    ".. _examples-download:"
   ]
  },
  {
   "cell_type": "markdown",
   "id": "eef09f63",
   "metadata": {},
   "source": [
    "Examples\n",
    "~~~~~~~~"
   ]
  },
  {
   "cell_type": "markdown",
   "id": "5607af9b",
   "metadata": {},
   "source": [
    "You can browse the above examples here."
   ]
  },
  {
   "cell_type": "markdown",
   "id": "601f9447",
   "metadata": {},
   "source": [
    "Tensors\n",
    "-------"
   ]
  },
  {
   "cell_type": "markdown",
   "id": "a014a1da",
   "metadata": {},
   "source": [
    ".. toctree::\n",
    "   :maxdepth: 2\n",
    "   :hidden:"
   ]
  },
  {
   "cell_type": "markdown",
   "id": "cfcfb5ae",
   "metadata": {},
   "source": [
    "   /beginner/examples_tensor/polynomial_numpy\n",
    "   /beginner/examples_tensor/polynomial_tensor"
   ]
  },
  {
   "cell_type": "markdown",
   "id": "6ca0f895",
   "metadata": {},
   "source": [
    ".. galleryitem:: /beginner/examples_tensor/polynomial_numpy.py"
   ]
  },
  {
   "cell_type": "markdown",
   "id": "8200d37e",
   "metadata": {},
   "source": [
    ".. galleryitem:: /beginner/examples_tensor/polynomial_tensor.py"
   ]
  },
  {
   "cell_type": "markdown",
   "id": "852394be",
   "metadata": {},
   "source": [
    ".. raw:: html"
   ]
  },
  {
   "cell_type": "markdown",
   "id": "62cc27af",
   "metadata": {},
   "source": [
    "    <div style='clear:both'></div>"
   ]
  },
  {
   "cell_type": "markdown",
   "id": "0c5d0db4",
   "metadata": {},
   "source": [
    "Autograd\n",
    "--------"
   ]
  },
  {
   "cell_type": "markdown",
   "id": "bafe37b2",
   "metadata": {},
   "source": [
    ".. toctree::\n",
    "   :maxdepth: 2\n",
    "   :hidden:"
   ]
  },
  {
   "cell_type": "markdown",
   "id": "421530a0",
   "metadata": {},
   "source": [
    "   /beginner/examples_autograd/polynomial_autograd\n",
    "   /beginner/examples_autograd/polynomial_custom_function"
   ]
  },
  {
   "cell_type": "markdown",
   "id": "751b9721",
   "metadata": {},
   "source": [
    "\n",
    ".. galleryitem:: /beginner/examples_autograd/polynomial_autograd.py"
   ]
  },
  {
   "cell_type": "markdown",
   "id": "0e1a5fdd",
   "metadata": {},
   "source": [
    ".. galleryitem:: /beginner/examples_autograd/polynomial_custom_function.py"
   ]
  },
  {
   "cell_type": "markdown",
   "id": "e4a09de5",
   "metadata": {},
   "source": [
    ".. raw:: html"
   ]
  },
  {
   "cell_type": "markdown",
   "id": "61733668",
   "metadata": {},
   "source": [
    "    <div style='clear:both'></div>"
   ]
  },
  {
   "cell_type": "markdown",
   "id": "2c7f707e",
   "metadata": {},
   "source": [
    "``nn`` module\n",
    "--------------"
   ]
  },
  {
   "cell_type": "markdown",
   "id": "8549653b",
   "metadata": {},
   "source": [
    ".. toctree::\n",
    "   :maxdepth: 2\n",
    "   :hidden:"
   ]
  },
  {
   "cell_type": "markdown",
   "id": "412beb03",
   "metadata": {},
   "source": [
    "   /beginner/examples_nn/polynomial_nn\n",
    "   /beginner/examples_nn/polynomial_optim\n",
    "   /beginner/examples_nn/polynomial_module\n",
    "   /beginner/examples_nn/dynamic_net"
   ]
  },
  {
   "cell_type": "markdown",
   "id": "a0eb5a69",
   "metadata": {},
   "source": [
    "\n",
    ".. galleryitem:: /beginner/examples_nn/polynomial_nn.py"
   ]
  },
  {
   "cell_type": "markdown",
   "id": "91359856",
   "metadata": {},
   "source": [
    ".. galleryitem:: /beginner/examples_nn/polynomial_optim.py"
   ]
  },
  {
   "cell_type": "markdown",
   "id": "bd6a5f00",
   "metadata": {},
   "source": [
    ".. galleryitem:: /beginner/examples_nn/polynomial_module.py"
   ]
  },
  {
   "cell_type": "markdown",
   "id": "15fafbac",
   "metadata": {},
   "source": [
    ".. galleryitem:: /beginner/examples_nn/dynamic_net.py"
   ]
  },
  {
   "cell_type": "markdown",
   "id": "83e9f3eb",
   "metadata": {},
   "source": [
    ".. raw:: html"
   ]
  },
  {
   "cell_type": "markdown",
   "id": "6f1e83f9",
   "metadata": {},
   "source": [
    "    <div style='clear:both'></div>\n"
   ]
  }
 ],
 "metadata": {
  "kernelspec": {
   "display_name": "base",
   "language": "python",
   "name": "python3"
  },
  "language_info": {
   "name": "python",
   "version": "3.11.5"
  }
 },
 "nbformat": 4,
 "nbformat_minor": 5
}
